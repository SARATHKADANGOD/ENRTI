{
  "nbformat": 4,
  "nbformat_minor": 0,
  "metadata": {
    "colab": {
      "provenance": [],
      "authorship_tag": "ABX9TyMr16XjN8q/68yg5nKKl50g",
      "include_colab_link": true
    },
    "kernelspec": {
      "name": "python3",
      "display_name": "Python 3"
    },
    "language_info": {
      "name": "python"
    }
  },
  "cells": [
    {
      "cell_type": "markdown",
      "metadata": {
        "id": "view-in-github",
        "colab_type": "text"
      },
      "source": [
        "<a href=\"https://colab.research.google.com/github/SARATHKADANGOD/ENRTI/blob/main/Task.ipynb\" target=\"_parent\"><img src=\"https://colab.research.google.com/assets/colab-badge.svg\" alt=\"Open In Colab\"/></a>"
      ]
    },
    {
      "cell_type": "markdown",
      "source": [
        "#1.Write a python program to find those numbers which are divisible by 7 and multiples of 5, for user input"
      ],
      "metadata": {
        "id": "lUMc1oARrwbY"
      }
    },
    {
      "cell_type": "code",
      "source": [
        "l =int(input(\"enter the lower range\"))\n",
        "u =int(input(\"enter the upper range\"))\n",
        "for i in range(l,u+1):\n",
        "    if(i%7==0 and i%5==0):\n",
        "        print(i)"
      ],
      "metadata": {
        "colab": {
          "base_uri": "https://localhost:8080/"
        },
        "id": "tFpPcnYFrv1W",
        "outputId": "b5d687a7-7edb-4bf4-d6ef-186c81f75ee4"
      },
      "execution_count": 9,
      "outputs": [
        {
          "output_type": "stream",
          "name": "stdout",
          "text": [
            "enter the lower range1\n",
            "enter the upper range100\n",
            "35\n",
            "70\n"
          ]
        }
      ]
    },
    {
      "cell_type": "markdown",
      "source": [
        "#2.Write a python program to check the user input is even or odd or zero"
      ],
      "metadata": {
        "id": "41ngslQErl6F"
      }
    },
    {
      "cell_type": "code",
      "execution_count": 5,
      "metadata": {
        "colab": {
          "base_uri": "https://localhost:8080/"
        },
        "id": "wbqOTzCqqveh",
        "outputId": "d63d08e2-0bb6-4680-8ecc-167acaf749ae"
      },
      "outputs": [
        {
          "output_type": "stream",
          "name": "stdout",
          "text": [
            "Enter the Value: 4\n",
            "4 is even\n"
          ]
        }
      ],
      "source": [
        "a = int(input(\"Enter the Value: \"))\n",
        "if a % 2 == 0:\n",
        "    print(f\"{a} is even\")\n",
        "else:\n",
        "    print(f\"{a} is odd\")\n",
        "\n",
        "\n",
        "\n",
        "\n",
        "\n",
        "\n",
        "\n",
        ""
      ]
    },
    {
      "cell_type": "markdown",
      "source": [
        "#3.Print decimal part of an input number. If the decimal part is zero print the string : “INTEGER”"
      ],
      "metadata": {
        "id": "JGeH-y5YrPYo"
      }
    },
    {
      "cell_type": "code",
      "source": [
        "a = float(input(\"Enter the Value: \"))\n",
        "b= int(a)\n",
        "if a == b:\n",
        "    print(\"INTEGER\")\n",
        "else:\n",
        "    print(f\"Decimal part: {a - b}\")\n"
      ],
      "metadata": {
        "colab": {
          "base_uri": "https://localhost:8080/"
        },
        "id": "vvDLft4Qq6L2",
        "outputId": "51fdbeb9-e337-402e-837e-1cb1977720e6"
      },
      "execution_count": 3,
      "outputs": [
        {
          "output_type": "stream",
          "name": "stdout",
          "text": [
            "Enter the Value: 1.5\n",
            "Decimal part: 0.5\n"
          ]
        }
      ]
    }
  ]
}